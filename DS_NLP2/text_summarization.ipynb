{
 "cells": [
  {
   "metadata": {},
   "cell_type": "code",
   "outputs": [],
   "execution_count": null,
   "source": [
    "%pip install pandas\n",
    "%pip install pandas\n",
    "%pip install nltk\n",
    "%pip install transformers\n",
    "%pip install -U jupyter ipywidgets\n",
    "%pip install -U jupyterlab-widgets\n",
    "%pip install seaborn\n",
    "%pip install scikit-learn\n",
    "%pip install gensim\n",
    "%pip install numpy==1.26.4"
   ],
   "id": "d0101305647168ec"
  }
 ],
 "metadata": {},
 "nbformat": 5,
 "nbformat_minor": 9
}
