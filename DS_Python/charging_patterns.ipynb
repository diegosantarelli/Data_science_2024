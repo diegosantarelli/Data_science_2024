{
 "cells": [
  {
   "cell_type": "code",
   "execution_count": null,
   "metadata": {},
   "outputs": [],
   "source": [
    "%pip install kagglehub\n",
    "%pip install pandas\n",
    "%pip install -U jupyter ipywidgets\n",
    "%pip install -U jupyterlab-widgets"
   ]
  },
  {
   "cell_type": "code",
   "execution_count": 1,
   "metadata": {},
   "outputs": [
    {
     "name": "stdout",
     "output_type": "stream",
     "text": [
      "Numero di righe nel dataset: 1320\n",
      "  User ID Vehicle Model  Battery Capacity (kWh) Charging Station ID  \\\n",
      "0  User_1        BMW i3              108.463007         Station_391   \n",
      "1  User_2  Hyundai Kona              100.000000         Station_428   \n",
      "2  User_3    Chevy Bolt               75.000000         Station_181   \n",
      "3  User_4  Hyundai Kona               50.000000         Station_327   \n",
      "4  User_5  Hyundai Kona               50.000000         Station_108   \n",
      "\n",
      "  Charging Station Location  Charging Start Time    Charging End Time  \\\n",
      "0                   Houston  2024-01-01 00:00:00  2024-01-01 00:39:00   \n",
      "1             San Francisco  2024-01-01 01:00:00  2024-01-01 03:01:00   \n",
      "2             San Francisco  2024-01-01 02:00:00  2024-01-01 04:48:00   \n",
      "3                   Houston  2024-01-01 03:00:00  2024-01-01 06:42:00   \n",
      "4               Los Angeles  2024-01-01 04:00:00  2024-01-01 05:46:00   \n",
      "\n",
      "   Energy Consumed (kWh)  Charging Duration (hours)  Charging Rate (kW)  \\\n",
      "0              60.712346                   0.591363           36.389181   \n",
      "1              12.339275                   3.133652           30.677735   \n",
      "2              19.128876                   2.452653           27.513593   \n",
      "3              79.457824                   1.266431           32.882870   \n",
      "4              19.629104                   2.019765           10.215712   \n",
      "\n",
      "   Charging Cost (USD) Time of Day Day of Week  State of Charge (Start %)  \\\n",
      "0            13.087717     Evening     Tuesday                  29.371576   \n",
      "1            21.128448     Morning      Monday                  10.115778   \n",
      "2            35.667270     Morning    Thursday                   6.854604   \n",
      "3            13.036239     Evening    Saturday                  83.120003   \n",
      "4            10.161471     Morning    Saturday                  54.258950   \n",
      "\n",
      "   State of Charge (End %)  Distance Driven (since last charge) (km)  \\\n",
      "0                86.119962                                293.602111   \n",
      "1                84.664344                                112.112804   \n",
      "2                69.917615                                 71.799253   \n",
      "3                99.624328                                199.577785   \n",
      "4                63.743786                                203.661847   \n",
      "\n",
      "   Temperature (°C)  Vehicle Age (years)     Charger Type  \\\n",
      "0         27.947953                  2.0  DC Fast Charger   \n",
      "1         14.311026                  3.0          Level 1   \n",
      "2         21.002002                  2.0          Level 2   \n",
      "3         38.316313                  1.0          Level 1   \n",
      "4         -7.834199                  1.0          Level 1   \n",
      "\n",
      "                User Type  \n",
      "0                Commuter  \n",
      "1           Casual Driver  \n",
      "2                Commuter  \n",
      "3  Long-Distance Traveler  \n",
      "4  Long-Distance Traveler  \n",
      "        User ID Vehicle Model  Battery Capacity (kWh) Charging Station ID  \\\n",
      "1315  User_1316   Nissan Leaf              100.000000          Station_57   \n",
      "1316  User_1317        BMW i3              100.000000          Station_40   \n",
      "1317  User_1318   Nissan Leaf              100.000000         Station_374   \n",
      "1318  User_1319    Chevy Bolt               85.000000         Station_336   \n",
      "1319  User_1320   Nissan Leaf              120.447195         Station_128   \n",
      "\n",
      "     Charging Station Location  Charging Start Time    Charging End Time  \\\n",
      "1315                  New York  2024-02-24 19:00:00  2024-02-24 20:30:00   \n",
      "1316                  New York  2024-02-24 20:00:00  2024-02-24 20:44:00   \n",
      "1317                  New York  2024-02-24 21:00:00  2024-02-24 23:03:00   \n",
      "1318             San Francisco  2024-02-24 22:00:00  2024-02-24 23:20:00   \n",
      "1319               Los Angeles  2024-02-24 23:00:00  2024-02-24 23:56:00   \n",
      "\n",
      "      Energy Consumed (kWh)  Charging Duration (hours)  Charging Rate (kW)  \\\n",
      "1315              42.011654                   1.426444            5.895475   \n",
      "1316              68.185853                   3.238212           18.388012   \n",
      "1317              18.895102                   3.267122           45.482066   \n",
      "1318              13.756252                   2.754527           38.148183   \n",
      "1319              63.652570                   3.740970           33.704226   \n",
      "\n",
      "      Charging Cost (USD) Time of Day Day of Week  State of Charge (Start %)  \\\n",
      "1315            22.081164     Evening      Sunday                  39.204102   \n",
      "1316             5.067806     Evening     Tuesday                  31.456375   \n",
      "1317            37.255002     Evening     Tuesday                  71.903081   \n",
      "1318            39.046146   Afternoon      Sunday                  76.187997   \n",
      "1319            10.863674     Evening      Monday                  59.338076   \n",
      "\n",
      "      State of Charge (End %)  Distance Driven (since last charge) (km)  \\\n",
      "1315                83.915952                                239.601075   \n",
      "1316                93.096461                                164.376022   \n",
      "1317                78.678879                                226.519258   \n",
      "1318                65.926573                                291.494076   \n",
      "1319                56.692439                                 14.449236   \n",
      "\n",
      "      Temperature (°C)  Vehicle Age (years)     Charger Type      User Type  \n",
      "1315          1.919655                  7.0  DC Fast Charger       Commuter  \n",
      "1316         34.029775                  4.0          Level 2  Casual Driver  \n",
      "1317         20.358761                  5.0  DC Fast Charger       Commuter  \n",
      "1318         24.134598                  5.0          Level 2       Commuter  \n",
      "1319         -6.966593                  5.0  DC Fast Charger       Commuter  \n"
     ]
    }
   ],
   "source": [
    "import kagglehub\n",
    "import pandas as pd\n",
    "import numpy as np\n",
    "from sklearn.ensemble import RandomForestClassifier\n",
    "from sklearn.metrics import classification_report, accuracy_score, confusion_matrix\n",
    "import seaborn as sns\n",
    "import matplotlib.pyplot as plt\n",
    "import pickle\n",
    "import os\n",
    "import warnings\n",
    "warnings.filterwarnings(\"ignore\")\n",
    "\n",
    "# Download latest version\n",
    "path = kagglehub.dataset_download(\"valakhorasani/electric-vehicle-charging-patterns\")\n",
    "file_path = os.path.join(path, \"ev_charging_patterns.csv\")\n",
    "\n",
    "df = pd.read_csv(file_path)\n",
    "\n",
    "print(f\"Numero di righe nel dataset: {df.shape[0]}\")\n",
    "\n",
    "print(df.head())\n",
    "print(df.tail())"
   ]
  },
  {
   "cell_type": "code",
   "execution_count": 2,
   "metadata": {},
   "outputs": [
    {
     "name": "stdout",
     "output_type": "stream",
     "text": [
      "Numero di righe nel dataset senza valori nulli: 1131\n"
     ]
    }
   ],
   "source": [
    "# Rimuovere i valori nulli (elimina intero record = riga)\n",
    "df_cleaned = df.dropna()\n",
    "\n",
    "print(f\"Numero di righe nel dataset senza valori nulli: {df_cleaned.shape[0]}\")"
   ]
  },
  {
   "cell_type": "code",
   "execution_count": 3,
   "metadata": {},
   "outputs": [
    {
     "name": "stdout",
     "output_type": "stream",
     "text": [
      "Numero di righe nel dataset senza valori nulli: 1131\n",
      "\n",
      "Dataset trasformato:\n",
      "  user_id vehicle_model  battery_capacity_kwh   station_id station_location  \\\n",
      "0  User_1        BMW i3            108.463007  Station_391          Houston   \n",
      "1  User_2  Hyundai Kona            100.000000  Station_428    San Francisco   \n",
      "2  User_3    Chevy Bolt             75.000000  Station_181    San Francisco   \n",
      "3  User_4  Hyundai Kona             50.000000  Station_327          Houston   \n",
      "4  User_5  Hyundai Kona             50.000000  Station_108      Los Angeles   \n",
      "\n",
      "            start_time             end_time  energy_consumed_kwh  \\\n",
      "0  2024-01-01 00:00:00  2024-01-01 00:39:00            60.712346   \n",
      "1  2024-01-01 01:00:00  2024-01-01 03:01:00            12.339275   \n",
      "2  2024-01-01 02:00:00  2024-01-01 04:48:00            19.128876   \n",
      "3  2024-01-01 03:00:00  2024-01-01 06:42:00            79.457824   \n",
      "4  2024-01-01 04:00:00  2024-01-01 05:46:00            19.629104   \n",
      "\n",
      "   duration_hours    rate_kw   cost_usd time_of_day day_of_week  \\\n",
      "0        0.591363  36.389181  13.087717     Evening     Tuesday   \n",
      "1        3.133652  30.677735  21.128448     Morning      Monday   \n",
      "2        2.452653  27.513593  35.667270     Morning    Thursday   \n",
      "3        1.266431  32.882870  13.036239     Evening    Saturday   \n",
      "4        2.019765  10.215712  10.161471     Morning    Saturday   \n",
      "\n",
      "   soc_start_percent  soc_end_percent  distance_km  temperature_c  \\\n",
      "0          29.371576        86.119962   293.602111      27.947953   \n",
      "1          10.115778        84.664344   112.112804      14.311026   \n",
      "2           6.854604        69.917615    71.799253      21.002002   \n",
      "3          83.120003        99.624328   199.577785      38.316313   \n",
      "4          54.258950        63.743786   203.661847      -7.834199   \n",
      "\n",
      "   vehicle_age_years     charger_type               user_type  \n",
      "0                2.0  DC Fast Charger                Commuter  \n",
      "1                3.0          Level 1           Casual Driver  \n",
      "2                2.0          Level 2                Commuter  \n",
      "3                1.0          Level 1  Long-Distance Traveler  \n",
      "4                1.0          Level 1  Long-Distance Traveler  \n"
     ]
    },
    {
     "data": {
      "text/plain": [
       "' output_file = \\'cleaned_ev_charging_patterns.csv\\'\\ndf_cleaned.to_csv(output_file, index=False)\\nprint(f\"\\nDataset pulito e salvato in: {output_file}\") '"
      ]
     },
     "execution_count": 3,
     "metadata": {},
     "output_type": "execute_result"
    }
   ],
   "source": [
    "# Rinominare le colonne\n",
    "df_cleaned = df_cleaned.rename(columns={\n",
    "    'User ID': 'user_id',\n",
    "    'Vehicle Model': 'vehicle_model',\n",
    "    'Battery Capacity (kWh)': 'battery_capacity_kwh',\n",
    "    'Charging Station ID': 'station_id',\n",
    "    'Charging Station Location': 'station_location',\n",
    "    'Charging Start Time': 'start_time',\n",
    "    'Charging End Time': 'end_time',\n",
    "    'Energy Consumed (kWh)': 'energy_consumed_kwh',\n",
    "    'Charging Duration (hours)': 'duration_hours',\n",
    "    'Charging Rate (kW)': 'rate_kw',\n",
    "    'Charging Cost (USD)': 'cost_usd',\n",
    "    'Time of Day': 'time_of_day',\n",
    "    'Day of Week': 'day_of_week',\n",
    "    'State of Charge (Start %)': 'soc_start_percent',\n",
    "    'State of Charge (End %)': 'soc_end_percent',\n",
    "    'Distance Driven (since last charge) (km)': 'distance_km',\n",
    "    'Temperature (°C)': 'temperature_c',\n",
    "    'Vehicle Age (years)': 'vehicle_age_years',\n",
    "    'Charger Type': 'charger_type',\n",
    "    'User Type': 'user_type'\n",
    "})\n",
    "\n",
    "print(f\"Numero di righe nel dataset senza valori nulli: {df_cleaned.shape[0]}\")\n",
    "\n",
    "# Visualizzare il dataset trasformato\n",
    "print(\"\\nDataset trasformato:\")\n",
    "print(df_cleaned.head())\n",
    "\n",
    "# Salvare il dataset pulito in un nuovo file\n",
    "\"\"\" output_file = 'cleaned_ev_charging_patterns.csv'\n",
    "df_cleaned.to_csv(output_file, index=False)\n",
    "print(f\"\\nDataset pulito e salvato in: {output_file}\") \"\"\""
   ]
  },
  {
   "cell_type": "markdown",
   "metadata": {},
   "source": [
    "# Classificazione\n",
    "Creazione di un **modello predittivo** per classificare gli utenti in base al loro comportamento di ricarica"
   ]
  },
  {
   "cell_type": "code",
   "execution_count": 4,
   "metadata": {},
   "outputs": [],
   "source": [
    "# Feature Engineering\n",
    "df_cleaned['start_hour'] = pd.to_datetime(df_cleaned['start_time']).dt.hour\n",
    "df_cleaned['day_of_week'] = df_cleaned['day_of_week'].astype('category').cat.codes\n",
    "\n",
    "# Seleziona le variabili rilevanti\n",
    "features = ['start_hour', 'duration_hours', 'day_of_week', 'energy_consumed_kwh']\n",
    "X = df_cleaned[features]\n",
    "\n",
    "# Crea etichette basate su regole di classificazione\n",
    "def classify_user(row):\n",
    "    if row['duration_hours'] > 3 and row['energy_consumed_kwh'] > 50:\n",
    "        return 'utenti intensivi'\n",
    "    elif row['duration_hours'] > 1:\n",
    "        return 'utenti frequenti'\n",
    "    else:\n",
    "        return 'utenti occasionali'\n",
    "\n",
    "df_cleaned['user_type'] = df_cleaned.apply(classify_user, axis=1)\n",
    "\n",
    "# Codifica la variabile target\n",
    "from sklearn.preprocessing import LabelEncoder\n",
    "label_encoder = LabelEncoder()\n",
    "y = label_encoder.fit_transform(df_cleaned['user_type'])"
   ]
  },
  {
   "cell_type": "code",
   "execution_count": 6,
   "metadata": {},
   "outputs": [
    {
     "ename": "KeyboardInterrupt",
     "evalue": "",
     "output_type": "error",
     "traceback": [
      "\u001b[1;31m---------------------------------------------------------------------------\u001b[0m",
      "\u001b[1;31mKeyboardInterrupt\u001b[0m                         Traceback (most recent call last)",
      "Cell \u001b[1;32mIn[6], line 22\u001b[0m\n\u001b[0;32m     19\u001b[0m oob_indices \u001b[38;5;241m=\u001b[39m \u001b[38;5;28mlist\u001b[39m(\u001b[38;5;28mset\u001b[39m(\u001b[38;5;28mrange\u001b[39m(\u001b[38;5;28mlen\u001b[39m(X))) \u001b[38;5;241m-\u001b[39m \u001b[38;5;28mset\u001b[39m(bootstrap_indices))\n\u001b[0;32m     21\u001b[0m \u001b[38;5;66;03m# Crea training e test set\u001b[39;00m\n\u001b[1;32m---> 22\u001b[0m X_train \u001b[38;5;241m=\u001b[39m \u001b[43mX\u001b[49m\u001b[38;5;241;43m.\u001b[39;49m\u001b[43miloc\u001b[49m\u001b[43m[\u001b[49m\u001b[43mbootstrap_indices\u001b[49m\u001b[43m]\u001b[49m\n\u001b[0;32m     23\u001b[0m y_train \u001b[38;5;241m=\u001b[39m y[bootstrap_indices]\n\u001b[0;32m     24\u001b[0m X_test \u001b[38;5;241m=\u001b[39m X\u001b[38;5;241m.\u001b[39miloc[oob_indices]\n",
      "File \u001b[1;32m~\\AppData\\Local\\Packages\\PythonSoftwareFoundation.Python.3.12_qbz5n2kfra8p0\\LocalCache\\local-packages\\Python312\\site-packages\\pandas\\core\\indexing.py:1191\u001b[0m, in \u001b[0;36m_LocationIndexer.__getitem__\u001b[1;34m(self, key)\u001b[0m\n\u001b[0;32m   1189\u001b[0m maybe_callable \u001b[38;5;241m=\u001b[39m com\u001b[38;5;241m.\u001b[39mapply_if_callable(key, \u001b[38;5;28mself\u001b[39m\u001b[38;5;241m.\u001b[39mobj)\n\u001b[0;32m   1190\u001b[0m maybe_callable \u001b[38;5;241m=\u001b[39m \u001b[38;5;28mself\u001b[39m\u001b[38;5;241m.\u001b[39m_check_deprecated_callable_usage(key, maybe_callable)\n\u001b[1;32m-> 1191\u001b[0m \u001b[38;5;28;01mreturn\u001b[39;00m \u001b[38;5;28;43mself\u001b[39;49m\u001b[38;5;241;43m.\u001b[39;49m\u001b[43m_getitem_axis\u001b[49m\u001b[43m(\u001b[49m\u001b[43mmaybe_callable\u001b[49m\u001b[43m,\u001b[49m\u001b[43m \u001b[49m\u001b[43maxis\u001b[49m\u001b[38;5;241;43m=\u001b[39;49m\u001b[43maxis\u001b[49m\u001b[43m)\u001b[49m\n",
      "File \u001b[1;32m~\\AppData\\Local\\Packages\\PythonSoftwareFoundation.Python.3.12_qbz5n2kfra8p0\\LocalCache\\local-packages\\Python312\\site-packages\\pandas\\core\\indexing.py:1743\u001b[0m, in \u001b[0;36m_iLocIndexer._getitem_axis\u001b[1;34m(self, key, axis)\u001b[0m\n\u001b[0;32m   1741\u001b[0m \u001b[38;5;66;03m# a list of integers\u001b[39;00m\n\u001b[0;32m   1742\u001b[0m \u001b[38;5;28;01melif\u001b[39;00m is_list_like_indexer(key):\n\u001b[1;32m-> 1743\u001b[0m     \u001b[38;5;28;01mreturn\u001b[39;00m \u001b[38;5;28;43mself\u001b[39;49m\u001b[38;5;241;43m.\u001b[39;49m\u001b[43m_get_list_axis\u001b[49m\u001b[43m(\u001b[49m\u001b[43mkey\u001b[49m\u001b[43m,\u001b[49m\u001b[43m \u001b[49m\u001b[43maxis\u001b[49m\u001b[38;5;241;43m=\u001b[39;49m\u001b[43maxis\u001b[49m\u001b[43m)\u001b[49m\n\u001b[0;32m   1745\u001b[0m \u001b[38;5;66;03m# a single integer\u001b[39;00m\n\u001b[0;32m   1746\u001b[0m \u001b[38;5;28;01melse\u001b[39;00m:\n\u001b[0;32m   1747\u001b[0m     key \u001b[38;5;241m=\u001b[39m item_from_zerodim(key)\n",
      "File \u001b[1;32m~\\AppData\\Local\\Packages\\PythonSoftwareFoundation.Python.3.12_qbz5n2kfra8p0\\LocalCache\\local-packages\\Python312\\site-packages\\pandas\\core\\indexing.py:1714\u001b[0m, in \u001b[0;36m_iLocIndexer._get_list_axis\u001b[1;34m(self, key, axis)\u001b[0m\n\u001b[0;32m   1697\u001b[0m \u001b[38;5;250m\u001b[39m\u001b[38;5;124;03m\"\"\"\u001b[39;00m\n\u001b[0;32m   1698\u001b[0m \u001b[38;5;124;03mReturn Series values by list or array of integers.\u001b[39;00m\n\u001b[0;32m   1699\u001b[0m \n\u001b[1;32m   (...)\u001b[0m\n\u001b[0;32m   1711\u001b[0m \u001b[38;5;124;03m`axis` can only be zero.\u001b[39;00m\n\u001b[0;32m   1712\u001b[0m \u001b[38;5;124;03m\"\"\"\u001b[39;00m\n\u001b[0;32m   1713\u001b[0m \u001b[38;5;28;01mtry\u001b[39;00m:\n\u001b[1;32m-> 1714\u001b[0m     \u001b[38;5;28;01mreturn\u001b[39;00m \u001b[38;5;28;43mself\u001b[39;49m\u001b[38;5;241;43m.\u001b[39;49m\u001b[43mobj\u001b[49m\u001b[38;5;241;43m.\u001b[39;49m\u001b[43m_take_with_is_copy\u001b[49m\u001b[43m(\u001b[49m\u001b[43mkey\u001b[49m\u001b[43m,\u001b[49m\u001b[43m \u001b[49m\u001b[43maxis\u001b[49m\u001b[38;5;241;43m=\u001b[39;49m\u001b[43maxis\u001b[49m\u001b[43m)\u001b[49m\n\u001b[0;32m   1715\u001b[0m \u001b[38;5;28;01mexcept\u001b[39;00m \u001b[38;5;167;01mIndexError\u001b[39;00m \u001b[38;5;28;01mas\u001b[39;00m err:\n\u001b[0;32m   1716\u001b[0m     \u001b[38;5;66;03m# re-raise with different error message, e.g. test_getitem_ndarray_3d\u001b[39;00m\n\u001b[0;32m   1717\u001b[0m     \u001b[38;5;28;01mraise\u001b[39;00m \u001b[38;5;167;01mIndexError\u001b[39;00m(\u001b[38;5;124m\"\u001b[39m\u001b[38;5;124mpositional indexers are out-of-bounds\u001b[39m\u001b[38;5;124m\"\u001b[39m) \u001b[38;5;28;01mfrom\u001b[39;00m \u001b[38;5;21;01merr\u001b[39;00m\n",
      "File \u001b[1;32m~\\AppData\\Local\\Packages\\PythonSoftwareFoundation.Python.3.12_qbz5n2kfra8p0\\LocalCache\\local-packages\\Python312\\site-packages\\pandas\\core\\generic.py:4153\u001b[0m, in \u001b[0;36mNDFrame._take_with_is_copy\u001b[1;34m(self, indices, axis)\u001b[0m\n\u001b[0;32m   4142\u001b[0m \u001b[38;5;129m@final\u001b[39m\n\u001b[0;32m   4143\u001b[0m \u001b[38;5;28;01mdef\u001b[39;00m \u001b[38;5;21m_take_with_is_copy\u001b[39m(\u001b[38;5;28mself\u001b[39m, indices, axis: Axis \u001b[38;5;241m=\u001b[39m \u001b[38;5;241m0\u001b[39m) \u001b[38;5;241m-\u001b[39m\u001b[38;5;241m>\u001b[39m Self:\n\u001b[0;32m   4144\u001b[0m \u001b[38;5;250m    \u001b[39m\u001b[38;5;124;03m\"\"\"\u001b[39;00m\n\u001b[0;32m   4145\u001b[0m \u001b[38;5;124;03m    Internal version of the `take` method that sets the `_is_copy`\u001b[39;00m\n\u001b[0;32m   4146\u001b[0m \u001b[38;5;124;03m    attribute to keep track of the parent dataframe (using in indexing\u001b[39;00m\n\u001b[1;32m   (...)\u001b[0m\n\u001b[0;32m   4151\u001b[0m \u001b[38;5;124;03m    See the docstring of `take` for full explanation of the parameters.\u001b[39;00m\n\u001b[0;32m   4152\u001b[0m \u001b[38;5;124;03m    \"\"\"\u001b[39;00m\n\u001b[1;32m-> 4153\u001b[0m     result \u001b[38;5;241m=\u001b[39m \u001b[38;5;28;43mself\u001b[39;49m\u001b[38;5;241;43m.\u001b[39;49m\u001b[43mtake\u001b[49m\u001b[43m(\u001b[49m\u001b[43mindices\u001b[49m\u001b[38;5;241;43m=\u001b[39;49m\u001b[43mindices\u001b[49m\u001b[43m,\u001b[49m\u001b[43m \u001b[49m\u001b[43maxis\u001b[49m\u001b[38;5;241;43m=\u001b[39;49m\u001b[43maxis\u001b[49m\u001b[43m)\u001b[49m\n\u001b[0;32m   4154\u001b[0m     \u001b[38;5;66;03m# Maybe set copy if we didn't actually change the index.\u001b[39;00m\n\u001b[0;32m   4155\u001b[0m     \u001b[38;5;28;01mif\u001b[39;00m \u001b[38;5;28mself\u001b[39m\u001b[38;5;241m.\u001b[39mndim \u001b[38;5;241m==\u001b[39m \u001b[38;5;241m2\u001b[39m \u001b[38;5;129;01mand\u001b[39;00m \u001b[38;5;129;01mnot\u001b[39;00m result\u001b[38;5;241m.\u001b[39m_get_axis(axis)\u001b[38;5;241m.\u001b[39mequals(\u001b[38;5;28mself\u001b[39m\u001b[38;5;241m.\u001b[39m_get_axis(axis)):\n",
      "File \u001b[1;32m~\\AppData\\Local\\Packages\\PythonSoftwareFoundation.Python.3.12_qbz5n2kfra8p0\\LocalCache\\local-packages\\Python312\\site-packages\\pandas\\core\\generic.py:4133\u001b[0m, in \u001b[0;36mNDFrame.take\u001b[1;34m(self, indices, axis, **kwargs)\u001b[0m\n\u001b[0;32m   4128\u001b[0m     \u001b[38;5;66;03m# We can get here with a slice via DataFrame.__getitem__\u001b[39;00m\n\u001b[0;32m   4129\u001b[0m     indices \u001b[38;5;241m=\u001b[39m np\u001b[38;5;241m.\u001b[39marange(\n\u001b[0;32m   4130\u001b[0m         indices\u001b[38;5;241m.\u001b[39mstart, indices\u001b[38;5;241m.\u001b[39mstop, indices\u001b[38;5;241m.\u001b[39mstep, dtype\u001b[38;5;241m=\u001b[39mnp\u001b[38;5;241m.\u001b[39mintp\n\u001b[0;32m   4131\u001b[0m     )\n\u001b[1;32m-> 4133\u001b[0m new_data \u001b[38;5;241m=\u001b[39m \u001b[38;5;28;43mself\u001b[39;49m\u001b[38;5;241;43m.\u001b[39;49m\u001b[43m_mgr\u001b[49m\u001b[38;5;241;43m.\u001b[39;49m\u001b[43mtake\u001b[49m\u001b[43m(\u001b[49m\n\u001b[0;32m   4134\u001b[0m \u001b[43m    \u001b[49m\u001b[43mindices\u001b[49m\u001b[43m,\u001b[49m\n\u001b[0;32m   4135\u001b[0m \u001b[43m    \u001b[49m\u001b[43maxis\u001b[49m\u001b[38;5;241;43m=\u001b[39;49m\u001b[38;5;28;43mself\u001b[39;49m\u001b[38;5;241;43m.\u001b[39;49m\u001b[43m_get_block_manager_axis\u001b[49m\u001b[43m(\u001b[49m\u001b[43maxis\u001b[49m\u001b[43m)\u001b[49m\u001b[43m,\u001b[49m\n\u001b[0;32m   4136\u001b[0m \u001b[43m    \u001b[49m\u001b[43mverify\u001b[49m\u001b[38;5;241;43m=\u001b[39;49m\u001b[38;5;28;43;01mTrue\u001b[39;49;00m\u001b[43m,\u001b[49m\n\u001b[0;32m   4137\u001b[0m \u001b[43m\u001b[49m\u001b[43m)\u001b[49m\n\u001b[0;32m   4138\u001b[0m \u001b[38;5;28;01mreturn\u001b[39;00m \u001b[38;5;28mself\u001b[39m\u001b[38;5;241m.\u001b[39m_constructor_from_mgr(new_data, axes\u001b[38;5;241m=\u001b[39mnew_data\u001b[38;5;241m.\u001b[39maxes)\u001b[38;5;241m.\u001b[39m__finalize__(\n\u001b[0;32m   4139\u001b[0m     \u001b[38;5;28mself\u001b[39m, method\u001b[38;5;241m=\u001b[39m\u001b[38;5;124m\"\u001b[39m\u001b[38;5;124mtake\u001b[39m\u001b[38;5;124m\"\u001b[39m\n\u001b[0;32m   4140\u001b[0m )\n",
      "File \u001b[1;32m~\\AppData\\Local\\Packages\\PythonSoftwareFoundation.Python.3.12_qbz5n2kfra8p0\\LocalCache\\local-packages\\Python312\\site-packages\\pandas\\core\\internals\\managers.py:891\u001b[0m, in \u001b[0;36mBaseBlockManager.take\u001b[1;34m(self, indexer, axis, verify)\u001b[0m\n\u001b[0;32m    888\u001b[0m \u001b[38;5;66;03m# Caller is responsible for ensuring indexer annotation is accurate\u001b[39;00m\n\u001b[0;32m    890\u001b[0m n \u001b[38;5;241m=\u001b[39m \u001b[38;5;28mself\u001b[39m\u001b[38;5;241m.\u001b[39mshape[axis]\n\u001b[1;32m--> 891\u001b[0m indexer \u001b[38;5;241m=\u001b[39m \u001b[43mmaybe_convert_indices\u001b[49m\u001b[43m(\u001b[49m\u001b[43mindexer\u001b[49m\u001b[43m,\u001b[49m\u001b[43m \u001b[49m\u001b[43mn\u001b[49m\u001b[43m,\u001b[49m\u001b[43m \u001b[49m\u001b[43mverify\u001b[49m\u001b[38;5;241;43m=\u001b[39;49m\u001b[43mverify\u001b[49m\u001b[43m)\u001b[49m\n\u001b[0;32m    893\u001b[0m new_labels \u001b[38;5;241m=\u001b[39m \u001b[38;5;28mself\u001b[39m\u001b[38;5;241m.\u001b[39maxes[axis]\u001b[38;5;241m.\u001b[39mtake(indexer)\n\u001b[0;32m    894\u001b[0m \u001b[38;5;28;01mreturn\u001b[39;00m \u001b[38;5;28mself\u001b[39m\u001b[38;5;241m.\u001b[39mreindex_indexer(\n\u001b[0;32m    895\u001b[0m     new_axis\u001b[38;5;241m=\u001b[39mnew_labels,\n\u001b[0;32m    896\u001b[0m     indexer\u001b[38;5;241m=\u001b[39mindexer,\n\u001b[1;32m   (...)\u001b[0m\n\u001b[0;32m    899\u001b[0m     copy\u001b[38;5;241m=\u001b[39m\u001b[38;5;28;01mNone\u001b[39;00m,\n\u001b[0;32m    900\u001b[0m )\n",
      "File \u001b[1;32m~\\AppData\\Local\\Packages\\PythonSoftwareFoundation.Python.3.12_qbz5n2kfra8p0\\LocalCache\\local-packages\\Python312\\site-packages\\pandas\\core\\indexers\\utils.py:281\u001b[0m, in \u001b[0;36mmaybe_convert_indices\u001b[1;34m(indices, n, verify)\u001b[0m\n\u001b[0;32m    279\u001b[0m \u001b[38;5;28;01mif\u001b[39;00m verify:\n\u001b[0;32m    280\u001b[0m     mask \u001b[38;5;241m=\u001b[39m (indices \u001b[38;5;241m>\u001b[39m\u001b[38;5;241m=\u001b[39m n) \u001b[38;5;241m|\u001b[39m (indices \u001b[38;5;241m<\u001b[39m \u001b[38;5;241m0\u001b[39m)\n\u001b[1;32m--> 281\u001b[0m     \u001b[38;5;28;01mif\u001b[39;00m \u001b[43mmask\u001b[49m\u001b[38;5;241;43m.\u001b[39;49m\u001b[43many\u001b[49m\u001b[43m(\u001b[49m\u001b[43m)\u001b[49m:\n\u001b[0;32m    282\u001b[0m         \u001b[38;5;28;01mraise\u001b[39;00m \u001b[38;5;167;01mIndexError\u001b[39;00m(\u001b[38;5;124m\"\u001b[39m\u001b[38;5;124mindices are out-of-bounds\u001b[39m\u001b[38;5;124m\"\u001b[39m)\n\u001b[0;32m    283\u001b[0m \u001b[38;5;28;01mreturn\u001b[39;00m indices\n",
      "File \u001b[1;32m~\\AppData\\Local\\Packages\\PythonSoftwareFoundation.Python.3.12_qbz5n2kfra8p0\\LocalCache\\local-packages\\Python312\\site-packages\\numpy\\_core\\_methods.py:59\u001b[0m, in \u001b[0;36m_any\u001b[1;34m(a, axis, dtype, out, keepdims, where)\u001b[0m\n\u001b[0;32m     55\u001b[0m \u001b[38;5;28;01mdef\u001b[39;00m \u001b[38;5;21m_prod\u001b[39m(a, axis\u001b[38;5;241m=\u001b[39m\u001b[38;5;28;01mNone\u001b[39;00m, dtype\u001b[38;5;241m=\u001b[39m\u001b[38;5;28;01mNone\u001b[39;00m, out\u001b[38;5;241m=\u001b[39m\u001b[38;5;28;01mNone\u001b[39;00m, keepdims\u001b[38;5;241m=\u001b[39m\u001b[38;5;28;01mFalse\u001b[39;00m,\n\u001b[0;32m     56\u001b[0m           initial\u001b[38;5;241m=\u001b[39m_NoValue, where\u001b[38;5;241m=\u001b[39m\u001b[38;5;28;01mTrue\u001b[39;00m):\n\u001b[0;32m     57\u001b[0m     \u001b[38;5;28;01mreturn\u001b[39;00m umr_prod(a, axis, dtype, out, keepdims, initial, where)\n\u001b[1;32m---> 59\u001b[0m \u001b[38;5;28;01mdef\u001b[39;00m \u001b[38;5;21m_any\u001b[39m(a, axis\u001b[38;5;241m=\u001b[39m\u001b[38;5;28;01mNone\u001b[39;00m, dtype\u001b[38;5;241m=\u001b[39m\u001b[38;5;28;01mNone\u001b[39;00m, out\u001b[38;5;241m=\u001b[39m\u001b[38;5;28;01mNone\u001b[39;00m, keepdims\u001b[38;5;241m=\u001b[39m\u001b[38;5;28;01mFalse\u001b[39;00m, \u001b[38;5;241m*\u001b[39m, where\u001b[38;5;241m=\u001b[39m\u001b[38;5;28;01mTrue\u001b[39;00m):\n\u001b[0;32m     60\u001b[0m     \u001b[38;5;66;03m# By default, return a boolean for any and all\u001b[39;00m\n\u001b[0;32m     61\u001b[0m     \u001b[38;5;28;01mif\u001b[39;00m dtype \u001b[38;5;129;01mis\u001b[39;00m \u001b[38;5;28;01mNone\u001b[39;00m:\n\u001b[0;32m     62\u001b[0m         dtype \u001b[38;5;241m=\u001b[39m bool_dt\n",
      "\u001b[1;31mKeyboardInterrupt\u001b[0m: "
     ]
    }
   ],
   "source": [
    "# Impostazioni del bootstrap\n",
    "n_iterations = 10000000  # Numero di campioni bootstrap\n",
    "checkpoint_interval = 100000  # Numero di iterazioni tra i checkpoint\n",
    "checkpoint_file = \"bootstrap_checkpoint.pkl\"  # Nome file per il checkpoint\n",
    "\n",
    "# Controlla se esiste un checkpoint\n",
    "if os.path.exists(checkpoint_file):\n",
    "    with open(checkpoint_file, \"rb\") as f:\n",
    "        checkpoint = pickle.load(f)\n",
    "        start_iteration = checkpoint['iteration'] + 1\n",
    "        metrics = checkpoint['metrics']\n",
    "else:\n",
    "    start_iteration = 0\n",
    "    metrics = []\n",
    "\n",
    "for i in range(n_iterations):\n",
    "    # Campionamento con sostituzione\n",
    "    bootstrap_indices = np.random.choice(range(len(X)), size=len(X), replace=True)\n",
    "    oob_indices = list(set(range(len(X))) - set(bootstrap_indices))\n",
    "    \n",
    "    # Crea training e test set\n",
    "    X_train = X.iloc[bootstrap_indices]\n",
    "    y_train = y[bootstrap_indices]\n",
    "    X_test = X.iloc[oob_indices]\n",
    "    y_test = y[oob_indices]"
   ]
  },
  {
   "cell_type": "code",
   "execution_count": 7,
   "metadata": {},
   "outputs": [
    {
     "name": "stdout",
     "output_type": "stream",
     "text": [
      "Accuracy: 100.00%\n",
      "                    precision    recall  f1-score   support\n",
      "\n",
      "  utenti frequenti       1.00      1.00      1.00       299\n",
      "  utenti intensivi       1.00      1.00      1.00        50\n",
      "utenti occasionali       1.00      1.00      1.00        62\n",
      "\n",
      "          accuracy                           1.00       411\n",
      "         macro avg       1.00      1.00      1.00       411\n",
      "      weighted avg       1.00      1.00      1.00       411\n",
      "\n"
     ]
    },
    {
     "data": {
      "image/png": "[encoded data removed]",
      "text/plain": [
       "<Figure size 640x480 with 2 Axes>"
      ]
     },
     "metadata": {},
     "output_type": "display_data"
    },
    {
     "name": "stdout",
     "output_type": "stream",
     "text": [
      "Bootstrap Accuracy: Mean = nan, Std Dev = nan\n"
     ]
    }
   ],
   "source": [
    "# Addestra un Random Forest Classifier\n",
    "model = RandomForestClassifier(\n",
    "    n_estimators=50,\n",
    "    max_depth=10,\n",
    "    min_samples_leaf=5,\n",
    "    random_state=42\n",
    "    )\n",
    "model.fit(X_train, y_train)\n",
    "\n",
    "# Valuta il modello\n",
    "y_pred = model.predict(X_test)\n",
    "accuracy = accuracy_score(y_test, y_pred)\n",
    "print(f'Accuracy: {accuracy * 100:.2f}%')\n",
    "print(classification_report(y_test, y_pred, target_names=label_encoder.classes_))\n",
    "\n",
    "# Salva il checkpoint ogni `checkpoint_interval` iterazioni\n",
    "if (i + 1) % checkpoint_interval == 0 or (i + 1) == n_iterations:\n",
    "    checkpoint = {\n",
    "        \"iteration\": i,\n",
    "        \"metrics\": metrics\n",
    "    }\n",
    "    with open(checkpoint_file, \"wb\") as f:\n",
    "        pickle.dump(checkpoint, f)\n",
    "    print(f\"Checkpoint salvato all'iterazione {i + 1}\")\n",
    "\n",
    "# Matrice di confusione\n",
    "conf_matrix = confusion_matrix(y_test, y_pred)\n",
    "sns.heatmap(conf_matrix, annot=True, fmt='d', cmap='Blues', xticklabels=label_encoder.classes_, yticklabels=label_encoder.classes_)\n",
    "plt.xlabel('Predicted')\n",
    "plt.ylabel('Actual')\n",
    "plt.title('Confusion Matrix')\n",
    "plt.show()\n",
    "\n",
    "# Report finale\n",
    "print(f\"Bootstrap Accuracy: Mean = {np.mean(metrics):.2f}, Std Dev = {np.std(metrics):.2f}\")"
   ]
  },
  {
   "cell_type": "code",
   "execution_count": 18,
   "metadata": {},
   "outputs": [
    {
     "data": {
      "image/png": "[encoded data removed]",
      "text/plain": [
       "<Figure size 640x480 with 1 Axes>"
      ]
     },
     "metadata": {},
     "output_type": "display_data"
    }
   ],
   "source": [
    "# Importanza delle feature\n",
    "importances = model.feature_importances_\n",
    "plt.barh(features, importances)\n",
    "plt.xlabel('Importance')\n",
    "plt.ylabel('Feature')\n",
    "plt.title('Feature Importance')\n",
    "plt.show()"
   ]
  },
  {
   "cell_type": "markdown",
   "metadata": {},
   "source": [
    "# Regressione\n",
    "- Obiettivo 1: stimare la durata della sessione di ricarica in funzione di caratteristiche come il giorno della settimana, l’orario di inizio e l’energia consumata.\n",
    "- Obiettivo 2: Prevedere il consumo energetico totale basandosi sulle stesse variabili."
   ]
  },
  {
   "cell_type": "code",
   "execution_count": null,
   "metadata": {},
   "outputs": [],
   "source": [
    "from sklearn.model_selection import train_test_split\n",
    "from sklearn.ensemble import RandomForestRegressor\n",
    "from sklearn.metrics import mean_absolute_error, mean_squared_error\n",
    "import numpy as np\n",
    "\n",
    "# Prepara il dataset per la regressione\n",
    "features = ['day_of_week', 'start_hour', 'energy_consumed_kwh']\n",
    "X = df_cleaned[features]"
   ]
  }
 ],
 "metadata": {
  "kernelspec": {
   "display_name": "Python 3",
   "language": "python",
   "name": "python3"
  },
  "language_info": {
   "codemirror_mode": {
    "name": "ipython",
    "version": 3
   },
   "file_extension": ".py",
   "mimetype": "text/x-python",
   "name": "python",
   "nbconvert_exporter": "python",
   "pygments_lexer": "ipython3",
   "version": "3.12.7"
  }
 },
 "nbformat": 4,
 "nbformat_minor": 2
}
