{
 "cells": [
  {
   "cell_type": "code",
   "execution_count": null,
   "metadata": {},
   "outputs": [],
   "source": [
    "%pip install kagglehub\n",
    "%pip install pandas\n",
    "%pip install -U jupyter ipywidgets\n",
    "%pip install -U jupyterlab-widgets\n",
    "%pip install seaborn\n",
    "%pip install sickit-learn\n",
    "%pip install imbalanced-learn\n",
    "%pip install transformers\n",
    "%pip install torch torchvision torchaudio --index-url https://download.pytorch.org/whl/cu118"
   ]
  },
  {
   "cell_type": "code",
   "execution_count": 16,
   "metadata": {},
   "outputs": [
    {
     "name": "stdout",
     "output_type": "stream",
     "text": [
      "Numero di righe nel dataset: 529804\n"
     ]
    },
    {
     "data": {
      "text/html": [
       "<div>\n",
       "<style scoped>\n",
       "    .dataframe tbody tr th:only-of-type {\n",
       "        vertical-align: middle;\n",
       "    }\n",
       "\n",
       "    .dataframe tbody tr th {\n",
       "        vertical-align: top;\n",
       "    }\n",
       "\n",
       "    .dataframe thead th {\n",
       "        text-align: right;\n",
       "    }\n",
       "</style>\n",
       "<table border=\"1\" class=\"dataframe\">\n",
       "  <thead>\n",
       "    <tr style=\"text-align: right;\">\n",
       "      <th></th>\n",
       "      <th>date</th>\n",
       "      <th>links</th>\n",
       "      <th>questions</th>\n",
       "      <th>tags</th>\n",
       "      <th>time</th>\n",
       "    </tr>\n",
       "  </thead>\n",
       "  <tbody>\n",
       "    <tr>\n",
       "      <th>0</th>\n",
       "      <td>2021-03-24 11:01:18.812726</td>\n",
       "      <td>/questions/66775243/how-to-display-jalali-date...</td>\n",
       "      <td>How to display jalali date in to view in Codei...</td>\n",
       "      <td>php,codeigniter,date,gregorian-calendar</td>\n",
       "      <td>2 mins ago</td>\n",
       "    </tr>\n",
       "    <tr>\n",
       "      <th>1</th>\n",
       "      <td>2021-03-24 11:01:18.814679</td>\n",
       "      <td>/questions/66775242/automate-creating-of-sales...</td>\n",
       "      <td>Automate creating of sales order in Zoho Books</td>\n",
       "      <td>python-3.x,zohobooks</td>\n",
       "      <td>2 mins ago</td>\n",
       "    </tr>\n",
       "    <tr>\n",
       "      <th>2</th>\n",
       "      <td>2021-03-24 11:01:18.817728</td>\n",
       "      <td>/questions/66775240/java-jar-error-for-spring-...</td>\n",
       "      <td>java jar error for spring boot applicaton</td>\n",
       "      <td>java,spring,spring-boot</td>\n",
       "      <td>3 mins ago</td>\n",
       "    </tr>\n",
       "    <tr>\n",
       "      <th>3</th>\n",
       "      <td>2021-03-24 11:01:18.818696</td>\n",
       "      <td>/questions/66775238/not-able-to-run-unfoldingm...</td>\n",
       "      <td>Not able to run UnfoldingMap library</td>\n",
       "      <td>java,eclipse,dictionary,core,unfoldingmap</td>\n",
       "      <td>3 mins ago</td>\n",
       "    </tr>\n",
       "    <tr>\n",
       "      <th>4</th>\n",
       "      <td>2021-03-24 11:01:18.820720</td>\n",
       "      <td>/questions/66775237/serverless-graphql-lambda-...</td>\n",
       "      <td>Serverless Graphql Lambda hard to understand t...</td>\n",
       "      <td>typescript,webpack,error-handling,graphql,serv...</td>\n",
       "      <td>3 mins ago</td>\n",
       "    </tr>\n",
       "  </tbody>\n",
       "</table>\n",
       "</div>"
      ],
      "text/plain": [
       "                         date  \\\n",
       "0  2021-03-24 11:01:18.812726   \n",
       "1  2021-03-24 11:01:18.814679   \n",
       "2  2021-03-24 11:01:18.817728   \n",
       "3  2021-03-24 11:01:18.818696   \n",
       "4  2021-03-24 11:01:18.820720   \n",
       "\n",
       "                                               links  \\\n",
       "0  /questions/66775243/how-to-display-jalali-date...   \n",
       "1  /questions/66775242/automate-creating-of-sales...   \n",
       "2  /questions/66775240/java-jar-error-for-spring-...   \n",
       "3  /questions/66775238/not-able-to-run-unfoldingm...   \n",
       "4  /questions/66775237/serverless-graphql-lambda-...   \n",
       "\n",
       "                                           questions  \\\n",
       "0  How to display jalali date in to view in Codei...   \n",
       "1     Automate creating of sales order in Zoho Books   \n",
       "2          java jar error for spring boot applicaton   \n",
       "3               Not able to run UnfoldingMap library   \n",
       "4  Serverless Graphql Lambda hard to understand t...   \n",
       "\n",
       "                                                tags        time  \n",
       "0            php,codeigniter,date,gregorian-calendar  2 mins ago  \n",
       "1                               python-3.x,zohobooks  2 mins ago  \n",
       "2                            java,spring,spring-boot  3 mins ago  \n",
       "3          java,eclipse,dictionary,core,unfoldingmap  3 mins ago  \n",
       "4  typescript,webpack,error-handling,graphql,serv...  3 mins ago  "
      ]
     },
     "execution_count": 16,
     "metadata": {},
     "output_type": "execute_result"
    }
   ],
   "source": [
    "import kagglehub\n",
    "import pandas as pd\n",
    "import os\n",
    "import warnings\n",
    "import re\n",
    "from sklearn.preprocessing import MultiLabelBinarizer\n",
    "from collections import Counter\n",
    "warnings.filterwarnings(\"ignore\")\n",
    "\n",
    "# Download latest version\n",
    "path = kagglehub.dataset_download(\"muhammedabdulazeem/500k-stackoverflow-questions\")\n",
    "file_path = os.path.join(path, \"questions.csv\")\n",
    "\n",
    "df = pd.read_csv(file_path)\n",
    "\n",
    "print(f\"Numero di righe nel dataset: {df.shape[0]}\")\n",
    "\n",
    "df.head()"
   ]
  },
  {
   "cell_type": "markdown",
   "metadata": {},
   "source": [
    "# ETL"
   ]
  },
  {
   "cell_type": "code",
   "execution_count": 17,
   "metadata": {},
   "outputs": [
    {
     "name": "stdout",
     "output_type": "stream",
     "text": [
      "Numero di righe nel dataset dopo la pulizia: 503981\n"
     ]
    },
    {
     "data": {
      "text/html": [
       "<div>\n",
       "<style scoped>\n",
       "    .dataframe tbody tr th:only-of-type {\n",
       "        vertical-align: middle;\n",
       "    }\n",
       "\n",
       "    .dataframe tbody tr th {\n",
       "        vertical-align: top;\n",
       "    }\n",
       "\n",
       "    .dataframe thead th {\n",
       "        text-align: right;\n",
       "    }\n",
       "</style>\n",
       "<table border=\"1\" class=\"dataframe\">\n",
       "  <thead>\n",
       "    <tr style=\"text-align: right;\">\n",
       "      <th></th>\n",
       "      <th>questions</th>\n",
       "      <th>tags</th>\n",
       "    </tr>\n",
       "  </thead>\n",
       "  <tbody>\n",
       "    <tr>\n",
       "      <th>0</th>\n",
       "      <td>How to display jalali date in to view in Codei...</td>\n",
       "      <td>php,codeigniter,date,gregorian-calendar</td>\n",
       "    </tr>\n",
       "    <tr>\n",
       "      <th>1</th>\n",
       "      <td>Automate creating of sales order in Zoho Books</td>\n",
       "      <td>python-3.x,zohobooks</td>\n",
       "    </tr>\n",
       "    <tr>\n",
       "      <th>2</th>\n",
       "      <td>java jar error for spring boot applicaton</td>\n",
       "      <td>java,spring,spring-boot</td>\n",
       "    </tr>\n",
       "    <tr>\n",
       "      <th>3</th>\n",
       "      <td>Not able to run UnfoldingMap library</td>\n",
       "      <td>java,eclipse,dictionary,core,unfoldingmap</td>\n",
       "    </tr>\n",
       "    <tr>\n",
       "      <th>4</th>\n",
       "      <td>Serverless Graphql Lambda hard to understand t...</td>\n",
       "      <td>typescript,webpack,error-handling,graphql,serv...</td>\n",
       "    </tr>\n",
       "  </tbody>\n",
       "</table>\n",
       "</div>"
      ],
      "text/plain": [
       "                                           questions  \\\n",
       "0  How to display jalali date in to view in Codei...   \n",
       "1     Automate creating of sales order in Zoho Books   \n",
       "2          java jar error for spring boot applicaton   \n",
       "3               Not able to run UnfoldingMap library   \n",
       "4  Serverless Graphql Lambda hard to understand t...   \n",
       "\n",
       "                                                tags  \n",
       "0            php,codeigniter,date,gregorian-calendar  \n",
       "1                               python-3.x,zohobooks  \n",
       "2                            java,spring,spring-boot  \n",
       "3          java,eclipse,dictionary,core,unfoldingmap  \n",
       "4  typescript,webpack,error-handling,graphql,serv...  "
      ]
     },
     "execution_count": 17,
     "metadata": {},
     "output_type": "execute_result"
    }
   ],
   "source": [
    "# Eliminare colonne inutili\n",
    "df_cleaned = df.drop(columns=['links', 'date', 'time'])\n",
    "\n",
    "# Rimuovere duplicati\n",
    "df_cleaned = df_cleaned.drop_duplicates()\n",
    "\n",
    "# Verificare e gestire dati mancanti\n",
    "df_cleaned = df_cleaned.dropna()  # Rimuove righe con valori NaN\n",
    "\n",
    "print(f\"Numero di righe nel dataset dopo la pulizia: {df_cleaned.shape[0]}\")\n",
    "\n",
    "df_cleaned.head()"
   ]
  },
  {
   "cell_type": "code",
   "execution_count": 18,
   "metadata": {},
   "outputs": [
    {
     "data": {
      "text/html": [
       "<div>\n",
       "<style scoped>\n",
       "    .dataframe tbody tr th:only-of-type {\n",
       "        vertical-align: middle;\n",
       "    }\n",
       "\n",
       "    .dataframe tbody tr th {\n",
       "        vertical-align: top;\n",
       "    }\n",
       "\n",
       "    .dataframe thead th {\n",
       "        text-align: right;\n",
       "    }\n",
       "</style>\n",
       "<table border=\"1\" class=\"dataframe\">\n",
       "  <thead>\n",
       "    <tr style=\"text-align: right;\">\n",
       "      <th></th>\n",
       "      <th>questions</th>\n",
       "      <th>tags</th>\n",
       "    </tr>\n",
       "  </thead>\n",
       "  <tbody>\n",
       "    <tr>\n",
       "      <th>0</th>\n",
       "      <td>how to display jalali date in to view in codei...</td>\n",
       "      <td>php,codeigniter,date,gregorian-calendar</td>\n",
       "    </tr>\n",
       "    <tr>\n",
       "      <th>1</th>\n",
       "      <td>automate creating of sales order in zoho books</td>\n",
       "      <td>python-3.x,zohobooks</td>\n",
       "    </tr>\n",
       "    <tr>\n",
       "      <th>2</th>\n",
       "      <td>java jar error for spring boot applicaton</td>\n",
       "      <td>java,spring,spring-boot</td>\n",
       "    </tr>\n",
       "    <tr>\n",
       "      <th>3</th>\n",
       "      <td>not able to run unfoldingmap library</td>\n",
       "      <td>java,eclipse,dictionary,core,unfoldingmap</td>\n",
       "    </tr>\n",
       "    <tr>\n",
       "      <th>4</th>\n",
       "      <td>serverless graphql lambda hard to understand t...</td>\n",
       "      <td>typescript,webpack,error-handling,graphql,serv...</td>\n",
       "    </tr>\n",
       "  </tbody>\n",
       "</table>\n",
       "</div>"
      ],
      "text/plain": [
       "                                           questions  \\\n",
       "0  how to display jalali date in to view in codei...   \n",
       "1     automate creating of sales order in zoho books   \n",
       "2          java jar error for spring boot applicaton   \n",
       "3               not able to run unfoldingmap library   \n",
       "4  serverless graphql lambda hard to understand t...   \n",
       "\n",
       "                                                tags  \n",
       "0            php,codeigniter,date,gregorian-calendar  \n",
       "1                               python-3.x,zohobooks  \n",
       "2                            java,spring,spring-boot  \n",
       "3          java,eclipse,dictionary,core,unfoldingmap  \n",
       "4  typescript,webpack,error-handling,graphql,serv...  "
      ]
     },
     "execution_count": 18,
     "metadata": {},
     "output_type": "execute_result"
    }
   ],
   "source": [
    "def clean_text(text):\n",
    "    # Rimuove link, caratteri speciali e converte in minuscolo\n",
    "    text = re.sub(r\"http\\S+|www\\S+|https\\S+\", '', text, flags=re.MULTILINE)\n",
    "    text = re.sub(r'\\@\\w+|\\#', '', text)  # Rimuove menzioni e hashtag\n",
    "    text = re.sub(r\"[^a-zA-Z0-9\\s]\", '', text)  # Mantiene solo lettere e numeri\n",
    "    text = text.lower()  # Converte in minuscolo\n",
    "    text = text.strip()  # Rimuove spazi extra\n",
    "    return text\n",
    "\n",
    "# Applicare la pulizia\n",
    "df_cleaned['questions'] = df_cleaned['questions'].apply(clean_text)\n",
    "\n",
    "df_cleaned.head()"
   ]
  },
  {
   "cell_type": "markdown",
   "metadata": {},
   "source": [
    "#### tengo solo i tag più frequenti"
   ]
  },
  {
   "cell_type": "code",
   "execution_count": 19,
   "metadata": {},
   "outputs": [
    {
     "data": {
      "text/html": [
       "<div>\n",
       "<style scoped>\n",
       "    .dataframe tbody tr th:only-of-type {\n",
       "        vertical-align: middle;\n",
       "    }\n",
       "\n",
       "    .dataframe tbody tr th {\n",
       "        vertical-align: top;\n",
       "    }\n",
       "\n",
       "    .dataframe thead th {\n",
       "        text-align: right;\n",
       "    }\n",
       "</style>\n",
       "<table border=\"1\" class=\"dataframe\">\n",
       "  <thead>\n",
       "    <tr style=\"text-align: right;\">\n",
       "      <th></th>\n",
       "      <th>questions</th>\n",
       "      <th>tags</th>\n",
       "    </tr>\n",
       "  </thead>\n",
       "  <tbody>\n",
       "    <tr>\n",
       "      <th>0</th>\n",
       "      <td>how to display jalali date in to view in codei...</td>\n",
       "      <td>[php, codeigniter, date, gregorian-calendar]</td>\n",
       "    </tr>\n",
       "    <tr>\n",
       "      <th>1</th>\n",
       "      <td>automate creating of sales order in zoho books</td>\n",
       "      <td>[python-3.x, zohobooks]</td>\n",
       "    </tr>\n",
       "    <tr>\n",
       "      <th>2</th>\n",
       "      <td>java jar error for spring boot applicaton</td>\n",
       "      <td>[java, spring, spring-boot]</td>\n",
       "    </tr>\n",
       "    <tr>\n",
       "      <th>3</th>\n",
       "      <td>not able to run unfoldingmap library</td>\n",
       "      <td>[java, eclipse, dictionary, core, unfoldingmap]</td>\n",
       "    </tr>\n",
       "    <tr>\n",
       "      <th>4</th>\n",
       "      <td>serverless graphql lambda hard to understand t...</td>\n",
       "      <td>[typescript, webpack, error-handling, graphql,...</td>\n",
       "    </tr>\n",
       "  </tbody>\n",
       "</table>\n",
       "</div>"
      ],
      "text/plain": [
       "                                           questions  \\\n",
       "0  how to display jalali date in to view in codei...   \n",
       "1     automate creating of sales order in zoho books   \n",
       "2          java jar error for spring boot applicaton   \n",
       "3               not able to run unfoldingmap library   \n",
       "4  serverless graphql lambda hard to understand t...   \n",
       "\n",
       "                                                tags  \n",
       "0       [php, codeigniter, date, gregorian-calendar]  \n",
       "1                            [python-3.x, zohobooks]  \n",
       "2                        [java, spring, spring-boot]  \n",
       "3    [java, eclipse, dictionary, core, unfoldingmap]  \n",
       "4  [typescript, webpack, error-handling, graphql,...  "
      ]
     },
     "execution_count": 19,
     "metadata": {},
     "output_type": "execute_result"
    }
   ],
   "source": [
    "# Funzione per pulire i tag\n",
    "def clean_tags(tag_string):\n",
    "    # Rimuove spazi, split su virgola e filtra stringhe vuote\n",
    "    tags = [tag.strip() for tag in tag_string.strip('[]').split(',') if tag.strip()]\n",
    "    return tags\n",
    "\n",
    "# Applicare la funzione alla colonna 'tags'\n",
    "df_cleaned['tags'] = df_cleaned['tags'].apply(clean_tags)\n",
    "\n",
    "# Visualizzare il risultato\n",
    "df_cleaned.head()"
   ]
  },
  {
   "cell_type": "code",
   "execution_count": 20,
   "metadata": {},
   "outputs": [
    {
     "data": {
      "text/plain": [
       "[('python', 77678),\n",
       " ('javascript', 55810),\n",
       " ('java', 28690),\n",
       " ('reactjs', 24440),\n",
       " ('html', 21462),\n",
       " ('c#', 20648),\n",
       " ('android', 19108),\n",
       " ('php', 17149),\n",
       " ('node.js', 16508),\n",
       " ('python-3.x', 15050),\n",
       " ('r', 14943),\n",
       " ('css', 14540),\n",
       " ('c++', 13690),\n",
       " ('pandas', 12403),\n",
       " ('sql', 11633),\n",
       " ('flutter', 11025),\n",
       " ('angular', 9665),\n",
       " ('django', 9395),\n",
       " ('typescript', 8991),\n",
       " ('arrays', 8695)]"
      ]
     },
     "execution_count": 20,
     "metadata": {},
     "output_type": "execute_result"
    }
   ],
   "source": [
    "from collections import Counter\n",
    "\n",
    "# Contare la frequenza di ciascun tag\n",
    "tag_counter = Counter([tag for tags in df_cleaned['tags'] for tag in tags])\n",
    "\n",
    "# Mostrare i 20 tag più comuni\n",
    "most_common_tags = tag_counter.most_common(20)\n",
    "\n",
    "# Selezionare i top 5000 tag più frequenti\n",
    "top_tags = [tag for tag, count in tag_counter.most_common(10)]\n",
    "\n",
    "# Filtrare i tag nel dataset\n",
    "df_cleaned['tags'] = df_cleaned['tags'].apply(lambda tags: [tag for tag in tags if tag in top_tags])\n",
    "\n",
    "most_common_tags"
   ]
  },
  {
   "cell_type": "code",
   "execution_count": 21,
   "metadata": {},
   "outputs": [
    {
     "data": {
      "text/html": [
       "<div>\n",
       "<style scoped>\n",
       "    .dataframe tbody tr th:only-of-type {\n",
       "        vertical-align: middle;\n",
       "    }\n",
       "\n",
       "    .dataframe tbody tr th {\n",
       "        vertical-align: top;\n",
       "    }\n",
       "\n",
       "    .dataframe thead th {\n",
       "        text-align: right;\n",
       "    }\n",
       "</style>\n",
       "<table border=\"1\" class=\"dataframe\">\n",
       "  <thead>\n",
       "    <tr style=\"text-align: right;\">\n",
       "      <th></th>\n",
       "      <th>questions</th>\n",
       "      <th>android</th>\n",
       "      <th>c#</th>\n",
       "      <th>html</th>\n",
       "      <th>java</th>\n",
       "      <th>javascript</th>\n",
       "      <th>node.js</th>\n",
       "      <th>php</th>\n",
       "      <th>python</th>\n",
       "      <th>python-3.x</th>\n",
       "      <th>reactjs</th>\n",
       "    </tr>\n",
       "  </thead>\n",
       "  <tbody>\n",
       "    <tr>\n",
       "      <th>0</th>\n",
       "      <td>how to display jalali date in to view in codei...</td>\n",
       "      <td>0.0</td>\n",
       "      <td>0.0</td>\n",
       "      <td>0.0</td>\n",
       "      <td>0.0</td>\n",
       "      <td>0.0</td>\n",
       "      <td>0.0</td>\n",
       "      <td>1.0</td>\n",
       "      <td>0.0</td>\n",
       "      <td>0.0</td>\n",
       "      <td>0.0</td>\n",
       "    </tr>\n",
       "    <tr>\n",
       "      <th>1</th>\n",
       "      <td>automate creating of sales order in zoho books</td>\n",
       "      <td>0.0</td>\n",
       "      <td>0.0</td>\n",
       "      <td>0.0</td>\n",
       "      <td>0.0</td>\n",
       "      <td>0.0</td>\n",
       "      <td>0.0</td>\n",
       "      <td>0.0</td>\n",
       "      <td>0.0</td>\n",
       "      <td>1.0</td>\n",
       "      <td>0.0</td>\n",
       "    </tr>\n",
       "    <tr>\n",
       "      <th>2</th>\n",
       "      <td>java jar error for spring boot applicaton</td>\n",
       "      <td>0.0</td>\n",
       "      <td>0.0</td>\n",
       "      <td>0.0</td>\n",
       "      <td>1.0</td>\n",
       "      <td>0.0</td>\n",
       "      <td>0.0</td>\n",
       "      <td>0.0</td>\n",
       "      <td>0.0</td>\n",
       "      <td>0.0</td>\n",
       "      <td>0.0</td>\n",
       "    </tr>\n",
       "    <tr>\n",
       "      <th>3</th>\n",
       "      <td>not able to run unfoldingmap library</td>\n",
       "      <td>0.0</td>\n",
       "      <td>0.0</td>\n",
       "      <td>0.0</td>\n",
       "      <td>1.0</td>\n",
       "      <td>0.0</td>\n",
       "      <td>0.0</td>\n",
       "      <td>0.0</td>\n",
       "      <td>0.0</td>\n",
       "      <td>0.0</td>\n",
       "      <td>0.0</td>\n",
       "    </tr>\n",
       "    <tr>\n",
       "      <th>4</th>\n",
       "      <td>serverless graphql lambda hard to understand t...</td>\n",
       "      <td>0.0</td>\n",
       "      <td>0.0</td>\n",
       "      <td>0.0</td>\n",
       "      <td>0.0</td>\n",
       "      <td>0.0</td>\n",
       "      <td>0.0</td>\n",
       "      <td>0.0</td>\n",
       "      <td>0.0</td>\n",
       "      <td>0.0</td>\n",
       "      <td>0.0</td>\n",
       "    </tr>\n",
       "  </tbody>\n",
       "</table>\n",
       "</div>"
      ],
      "text/plain": [
       "                                           questions  android   c#  html  \\\n",
       "0  how to display jalali date in to view in codei...      0.0  0.0   0.0   \n",
       "1     automate creating of sales order in zoho books      0.0  0.0   0.0   \n",
       "2          java jar error for spring boot applicaton      0.0  0.0   0.0   \n",
       "3               not able to run unfoldingmap library      0.0  0.0   0.0   \n",
       "4  serverless graphql lambda hard to understand t...      0.0  0.0   0.0   \n",
       "\n",
       "   java  javascript  node.js  php  python  python-3.x  reactjs  \n",
       "0   0.0         0.0      0.0  1.0     0.0         0.0      0.0  \n",
       "1   0.0         0.0      0.0  0.0     0.0         1.0      0.0  \n",
       "2   1.0         0.0      0.0  0.0     0.0         0.0      0.0  \n",
       "3   1.0         0.0      0.0  0.0     0.0         0.0      0.0  \n",
       "4   0.0         0.0      0.0  0.0     0.0         0.0      0.0  "
      ]
     },
     "execution_count": 21,
     "metadata": {},
     "output_type": "execute_result"
    }
   ],
   "source": [
    "from sklearn.preprocessing import MultiLabelBinarizer\n",
    "\n",
    "# Binarizzare i tag filtrati\n",
    "mlb = MultiLabelBinarizer()\n",
    "tags_encoded = mlb.fit_transform(df_cleaned['tags'])\n",
    "\n",
    "# Creare un DataFrame con i tag codificati\n",
    "tags_df = pd.DataFrame(tags_encoded, columns=mlb.classes_)\n",
    "\n",
    "# Unire i dati codificati con le domande originali\n",
    "df_encoded = pd.concat([df_cleaned.drop(columns=['tags']), tags_df], axis=1)\n",
    "\n",
    "# Visualizzare il dataset codificato\n",
    "df_encoded.head()"
   ]
  },
  {
   "cell_type": "code",
   "execution_count": 22,
   "metadata": {},
   "outputs": [
    {
     "data": {
      "image/png": "[encoded data removed]",
      "text/plain": [
       "<Figure size 640x480 with 1 Axes>"
      ]
     },
     "metadata": {},
     "output_type": "display_data"
    }
   ],
   "source": [
    "import matplotlib.pyplot as plt\n",
    "\n",
    "# Contare la frequenza dei tag\n",
    "tag_counts = tags_df.sum(axis=0).sort_values(ascending=False)\n",
    "\n",
    "# Visualizzare i primi 10 tag più comuni\n",
    "tag_counts.head(10).plot(kind='bar', title='Distribuzione dei tag più comuni')\n",
    "plt.show()"
   ]
  },
  {
   "cell_type": "markdown",
   "metadata": {},
   "source": [
    "# Classificazione"
   ]
  },
  {
   "cell_type": "code",
   "execution_count": 23,
   "metadata": {},
   "outputs": [
    {
     "name": "stdout",
     "output_type": "stream",
     "text": [
      "Numero di domande (X): 528844\n",
      "Numero di target (y): 503981\n"
     ]
    }
   ],
   "source": [
    "X = df_encoded['questions']\n",
    "y = tags_encoded\n",
    "\n",
    "# Controllare il numero di campioni\n",
    "print(f\"Numero di domande (X): {len(X)}\")\n",
    "print(f\"Numero di target (y): {y.shape[0]}\")"
   ]
  },
  {
   "cell_type": "code",
   "execution_count": 24,
   "metadata": {},
   "outputs": [
    {
     "name": "stdout",
     "output_type": "stream",
     "text": [
      "Numero di domande sincronizzate (X): 503981\n",
      "Numero di target sincronizzati (y): 503981\n"
     ]
    }
   ],
   "source": [
    "# Sincronizzare i dati per il numero minimo di righe\n",
    "min_samples = min(len(df_encoded), tags_encoded.shape[0])\n",
    "\n",
    "X = df_encoded['questions'][:min_samples]\n",
    "y = tags_encoded[:min_samples]\n",
    "\n",
    "# Controllare il risultato\n",
    "print(f\"Numero di domande sincronizzate (X): {len(X)}\")\n",
    "print(f\"Numero di target sincronizzati (y): {y.shape[0]}\")"
   ]
  },
  {
   "cell_type": "code",
   "execution_count": 25,
   "metadata": {},
   "outputs": [
    {
     "name": "stdout",
     "output_type": "stream",
     "text": [
      "Training set: 352786\n",
      "Validation set: 75597\n",
      "Test set: 75598\n"
     ]
    }
   ],
   "source": [
    "from sklearn.model_selection import train_test_split\n",
    "\n",
    "# Dividere in training, validation e test set\n",
    "X_train, X_temp, y_train, y_temp = train_test_split(X, y, test_size=0.3, random_state=42)\n",
    "X_val, X_test, y_val, y_test = train_test_split(X_temp, y_temp, test_size=0.5, random_state=42)\n",
    "\n",
    "print(f\"Training set: {len(X_train)}\")\n",
    "print(f\"Validation set: {len(X_val)}\")\n",
    "print(f\"Test set: {len(X_test)}\")"
   ]
  },
  {
   "cell_type": "markdown",
   "metadata": {},
   "source": [
    "#### Tokenizzazione per BERT"
   ]
  },
  {
   "cell_type": "code",
   "execution_count": 26,
   "metadata": {},
   "outputs": [],
   "source": [
    "from transformers import BertTokenizer\n",
    "\n",
    "# Inizializzare il tokenizer di BERT\n",
    "tokenizer = BertTokenizer.from_pretrained('bert-base-uncased')\n",
    "\n",
    "# Funzione per tokenizzare il dataset con padding e truncation\n",
    "def tokenize_data(texts, max_length=512):\n",
    "    return tokenizer(\n",
    "        texts,\n",
    "        truncation=True,\n",
    "        padding=True,\n",
    "        max_length=max_length,\n",
    "        return_tensors=\"pt\",  # Ritorna tensor PyTorch\n",
    "    )\n",
    "\n",
    "X_train_encodings = tokenize_data(list(X_train))\n",
    "X_val_encodings = tokenize_data(list(X_val))\n",
    "X_test_encodings = tokenize_data(list(X_test))"
   ]
  },
  {
   "cell_type": "markdown",
   "metadata": {},
   "source": [
    "#### Encoding etichette"
   ]
  },
  {
   "cell_type": "code",
   "execution_count": null,
   "metadata": {},
   "outputs": [],
   "source": [
    "from sklearn.preprocessing import LabelEncoder\n",
    "import torch\n",
    "import numpy as np\n",
    "\n",
    "# Convertire da one-hot encoded a array di classi (argmax lungo l'asse delle colonne)\n",
    "y_train = np.argmax(y_train, axis=1)\n",
    "y_val = np.argmax(y_val, axis=1)\n",
    "y_test = np.argmax(y_test, axis=1)\n",
    "\n",
    "# Encoding delle etichette\n",
    "label_encoder = LabelEncoder()\n",
    "\n",
    "# Trasformare le etichette di training, validation e test\n",
    "y_train_encoded = label_encoder.fit_transform(y_train)\n",
    "y_val_encoded = label_encoder.transform(y_val)\n",
    "y_test_encoded = label_encoder.transform(y_test)\n",
    "\n",
    "# Convertire le etichette in tensori PyTorch\n",
    "y_train_tensor = torch.tensor(y_train_encoded)\n",
    "y_val_tensor = torch.tensor(y_val_encoded)\n",
    "y_test_tensor = torch.tensor(y_test_encoded)\n",
    "\n",
    "# Stampa di controllo\n",
    "print(\"Tokenizzazione completata!\")\n",
    "print(f\"Forma dei token di training: {X_train_encodings['input_ids'].shape}\")\n",
    "print(f\"Numero di etichette di training: {len(y_train_encoded)}\")"
   ]
  },
  {
   "cell_type": "markdown",
   "metadata": {},
   "source": [
    "#### Creazione Dataset PyTorch"
   ]
  },
  {
   "cell_type": "code",
   "execution_count": 29,
   "metadata": {},
   "outputs": [],
   "source": [
    "from torch.utils.data import Dataset\n",
    "\n",
    "class CustomDataset(Dataset):\n",
    "    def __init__(self, encodings, labels):\n",
    "        self.encodings = encodings\n",
    "        self.labels = labels\n",
    "\n",
    "    def __len__(self):\n",
    "        return len(self.labels)\n",
    "\n",
    "    def __getitem__(self, idx):\n",
    "        # Ritorna un singolo elemento per il DataLoader\n",
    "        item = {key: val[idx] for key, val in self.encodings.items()}\n",
    "        item['labels'] = self.labels[idx]\n",
    "        return item\n",
    "\n",
    "# Creare i dataset\n",
    "train_dataset = CustomDataset(X_train_encodings, y_train_tensor)\n",
    "val_dataset = CustomDataset(X_val_encodings, y_val_tensor)\n",
    "test_dataset = CustomDataset(X_test_encodings, y_test_tensor)"
   ]
  },
  {
   "cell_type": "markdown",
   "metadata": {},
   "source": [
    "#### Configurazione DataLoader"
   ]
  },
  {
   "cell_type": "code",
   "execution_count": 30,
   "metadata": {},
   "outputs": [],
   "source": [
    "from torch.utils.data import DataLoader\n",
    "\n",
    "# Creare i DataLoader\n",
    "train_loader = DataLoader(train_dataset, batch_size=16, shuffle=True)\n",
    "val_loader = DataLoader(val_dataset, batch_size=64, shuffle=False)\n",
    "test_loader = DataLoader(test_dataset, batch_size=64, shuffle=False)"
   ]
  },
  {
   "cell_type": "markdown",
   "metadata": {},
   "source": [
    "#### Caricamento modello BERT"
   ]
  },
  {
   "cell_type": "code",
   "execution_count": 31,
   "metadata": {},
   "outputs": [
    {
     "name": "stderr",
     "output_type": "stream",
     "text": [
      "Some weights of BertForSequenceClassification were not initialized from the model checkpoint at bert-base-uncased and are newly initialized: ['classifier.bias', 'classifier.weight']\n",
      "You should probably TRAIN this model on a down-stream task to be able to use it for predictions and inference.\n"
     ]
    },
    {
     "data": {
      "text/plain": [
       "BertForSequenceClassification(\n",
       "  (bert): BertModel(\n",
       "    (embeddings): BertEmbeddings(\n",
       "      (word_embeddings): Embedding(30522, 768, padding_idx=0)\n",
       "      (position_embeddings): Embedding(512, 768)\n",
       "      (token_type_embeddings): Embedding(2, 768)\n",
       "      (LayerNorm): LayerNorm((768,), eps=1e-12, elementwise_affine=True)\n",
       "      (dropout): Dropout(p=0.1, inplace=False)\n",
       "    )\n",
       "    (encoder): BertEncoder(\n",
       "      (layer): ModuleList(\n",
       "        (0-11): 12 x BertLayer(\n",
       "          (attention): BertAttention(\n",
       "            (self): BertSdpaSelfAttention(\n",
       "              (query): Linear(in_features=768, out_features=768, bias=True)\n",
       "              (key): Linear(in_features=768, out_features=768, bias=True)\n",
       "              (value): Linear(in_features=768, out_features=768, bias=True)\n",
       "              (dropout): Dropout(p=0.1, inplace=False)\n",
       "            )\n",
       "            (output): BertSelfOutput(\n",
       "              (dense): Linear(in_features=768, out_features=768, bias=True)\n",
       "              (LayerNorm): LayerNorm((768,), eps=1e-12, elementwise_affine=True)\n",
       "              (dropout): Dropout(p=0.1, inplace=False)\n",
       "            )\n",
       "          )\n",
       "          (intermediate): BertIntermediate(\n",
       "            (dense): Linear(in_features=768, out_features=3072, bias=True)\n",
       "            (intermediate_act_fn): GELUActivation()\n",
       "          )\n",
       "          (output): BertOutput(\n",
       "            (dense): Linear(in_features=3072, out_features=768, bias=True)\n",
       "            (LayerNorm): LayerNorm((768,), eps=1e-12, elementwise_affine=True)\n",
       "            (dropout): Dropout(p=0.1, inplace=False)\n",
       "          )\n",
       "        )\n",
       "      )\n",
       "    )\n",
       "    (pooler): BertPooler(\n",
       "      (dense): Linear(in_features=768, out_features=768, bias=True)\n",
       "      (activation): Tanh()\n",
       "    )\n",
       "  )\n",
       "  (dropout): Dropout(p=0.1, inplace=False)\n",
       "  (classifier): Linear(in_features=768, out_features=10, bias=True)\n",
       ")"
      ]
     },
     "execution_count": 31,
     "metadata": {},
     "output_type": "execute_result"
    }
   ],
   "source": [
    "from transformers import BertForSequenceClassification\n",
    "\n",
    "# Caricare il modello pre-addestrato BERT con una testa di classificazione\n",
    "model = BertForSequenceClassification.from_pretrained(\n",
    "    \"bert-base-uncased\",\n",
    "    num_labels=len(label_encoder.classes_)  # Numero di classi\n",
    ")\n",
    "\n",
    "# Spostare il modello sulla GPU (se disponibile)\n",
    "device = torch.device(\"cuda\") if torch.cuda.is_available() else torch.device(\"cpu\")\n",
    "model.to(device)"
   ]
  },
  {
   "cell_type": "markdown",
   "metadata": {},
   "source": [
    "#### Definizione di Ottimizzatore e Funzione di Perdita"
   ]
  },
  {
   "cell_type": "code",
   "execution_count": 32,
   "metadata": {},
   "outputs": [],
   "source": [
    "from torch.optim import AdamW\n",
    "\n",
    "# Ottimizzatore\n",
    "optimizer = AdamW(model.parameters(), lr=5e-5)\n",
    "\n",
    "# Funzione di perdita\n",
    "from torch.nn import CrossEntropyLoss\n",
    "loss_fn = CrossEntropyLoss()"
   ]
  },
  {
   "cell_type": "markdown",
   "metadata": {},
   "source": [
    "#### Ciclo di Training"
   ]
  },
  {
   "cell_type": "code",
   "execution_count": 33,
   "metadata": {},
   "outputs": [
    {
     "name": "stderr",
     "output_type": "stream",
     "text": [
      "Epoch 0:   1%|          | 127/22050 [00:28<1:20:17,  4.55it/s, loss=1.65]"
     ]
    },
    {
     "ename": "",
     "evalue": "",
     "output_type": "error",
     "traceback": [
      "\u001b[1;31mSi è verificato un arresto anomalo del Kernel durante l'esecuzione del codice nella cella attiva o in una cella precedente. \n",
      "\u001b[1;31mEsaminare il codice nelle celle per identificare una possibile causa dell'errore. \n",
      "\u001b[1;31mPer altre informazioni, fare clic<a href='https://aka.ms/vscodeJupyterKernelCrash'>qui</a>. \n",
      "\u001b[1;31mPer ulteriori dettagli, visualizzare Jupyter <a href='command:jupyter.viewOutput'>log</a>."
     ]
    }
   ],
   "source": [
    "from transformers import get_scheduler\n",
    "from tqdm import tqdm\n",
    "\n",
    "# Scheduler per il learning rate\n",
    "num_training_steps = len(train_loader) * 3  # Epoche\n",
    "scheduler = get_scheduler(\"linear\", optimizer=optimizer, num_warmup_steps=0, num_training_steps=num_training_steps)\n",
    "\n",
    "# Training Loop\n",
    "epochs = 3\n",
    "for epoch in range(epochs):\n",
    "    model.train()\n",
    "    loop = tqdm(train_loader, leave=True)\n",
    "    for batch in loop:\n",
    "        # Spostare i dati sulla GPU\n",
    "        batch = {k: v.to(device) for k, v in batch.items()}\n",
    "        \n",
    "        # Forward pass\n",
    "        outputs = model(**batch)\n",
    "        loss = outputs.loss\n",
    "        logits = outputs.logits\n",
    "        \n",
    "        # Backward pass\n",
    "        optimizer.zero_grad()\n",
    "        loss.backward()\n",
    "        optimizer.step()\n",
    "        scheduler.step()\n",
    "        \n",
    "        # Aggiornare il progresso\n",
    "        loop.set_description(f\"Epoch {epoch}\")\n",
    "        loop.set_postfix(loss=loss.item())"
   ]
  }
 ],
 "metadata": {
  "kernelspec": {
   "display_name": "Python 3",
   "language": "python",
   "name": "python3"
  },
  "language_info": {
   "codemirror_mode": {
    "name": "ipython",
    "version": 3
   },
   "file_extension": ".py",
   "mimetype": "text/x-python",
   "name": "python",
   "nbconvert_exporter": "python",
   "pygments_lexer": "ipython3",
   "version": "3.12.7"
  }
 },
 "nbformat": 4,
 "nbformat_minor": 2
}
